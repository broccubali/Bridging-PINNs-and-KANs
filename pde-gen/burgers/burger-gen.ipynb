{
  "cells": [
    {
      "cell_type": "code",
      "execution_count": 9,
      "id": "810e3e20",
      "metadata": {
        "_cell_guid": "9f4733be-28d9-4d0c-b312-1a931304fe41",
        "_uuid": "8e47167d-b504-40aa-a505-4517a078c464",
        "execution": {
          "iopub.execute_input": "2024-11-21T10:12:04.165498Z",
          "iopub.status.busy": "2024-11-21T10:12:04.164967Z",
          "iopub.status.idle": "2024-11-21T10:12:06.834302Z",
          "shell.execute_reply": "2024-11-21T10:12:06.833075Z"
        },
        "id": "810e3e20",
        "jupyter": {
          "outputs_hidden": false
        },
        "papermill": {
          "duration": 2.679258,
          "end_time": "2024-11-21T10:12:06.836887",
          "exception": false,
          "start_time": "2024-11-21T10:12:04.157629",
          "status": "completed"
        },
        "tags": []
      },
      "outputs": [],
      "source": [
        "from __future__ import annotations\n",
        "\n",
        "import sys\n",
        "import time\n",
        "from math import ceil\n",
        "import numpy as np\n",
        "import jax\n",
        "import jax.numpy as jnp\n",
        "from jax import device_put, lax\n",
        "\n",
        "import numpy as np\n",
        "import matplotlib.pyplot as plt\n",
        "import h5py\n",
        "from scipy.stats import skewnorm"
      ]
    },
    {
      "cell_type": "code",
      "execution_count": 10,
      "id": "2d34c185",
      "metadata": {
        "_cell_guid": "83c49a27-c872-47f9-8949-84ec4746720f",
        "_uuid": "1628030f-1851-40b0-b0e2-97cdf26db840",
        "execution": {
          "iopub.execute_input": "2024-11-21T10:12:06.862353Z",
          "iopub.status.busy": "2024-11-21T10:12:06.861806Z",
          "iopub.status.idle": "2024-11-21T10:12:06.872883Z",
          "shell.execute_reply": "2024-11-21T10:12:06.871758Z"
        },
        "id": "2d34c185",
        "jupyter": {
          "outputs_hidden": false
        },
        "papermill": {
          "duration": 0.020597,
          "end_time": "2024-11-21T10:12:06.875198",
          "exception": false,
          "start_time": "2024-11-21T10:12:06.854601",
          "status": "completed"
        },
        "tags": []
      },
      "outputs": [],
      "source": [
        "def _pass(carry):\n",
        "    return carry\n",
        "\n",
        "\n",
        "def init(xc, u0=1.0, du=0.1):\n",
        "    u = u0 * jnp.sin((xc + 1.0) * jnp.pi)\n",
        "    return u"
      ]
    },
    {
      "cell_type": "code",
      "execution_count": 11,
      "id": "7475cab1",
      "metadata": {
        "_cell_guid": "75671f1c-fe8d-4b62-b498-11a2e91d5164",
        "_uuid": "947ada14-a205-4539-95ea-b88d57b09607",
        "execution": {
          "iopub.execute_input": "2024-11-21T10:12:06.900601Z",
          "iopub.status.busy": "2024-11-21T10:12:06.900220Z",
          "iopub.status.idle": "2024-11-21T10:12:06.905709Z",
          "shell.execute_reply": "2024-11-21T10:12:06.904542Z"
        },
        "id": "7475cab1",
        "jupyter": {
          "outputs_hidden": false
        },
        "papermill": {
          "duration": 0.014473,
          "end_time": "2024-11-21T10:12:06.907783",
          "exception": false,
          "start_time": "2024-11-21T10:12:06.893310",
          "status": "completed"
        },
        "tags": []
      },
      "outputs": [],
      "source": [
        "def Courant(u, dx):\n",
        "    stability_adv = dx / (jnp.max(jnp.abs(u)) + 1.0e-8)\n",
        "    return stability_adv\n",
        "\n",
        "\n",
        "def Courant_diff(dx, epsilon=1.0e-3):\n",
        "    stability_dif = 0.5 * dx**2 / (epsilon + 1.0e-8)\n",
        "    return stability_dif"
      ]
    },
    {
      "cell_type": "code",
      "execution_count": 12,
      "id": "cba7ddb4",
      "metadata": {
        "_cell_guid": "8d8b998b-7079-4bca-b4d9-fa7366586c84",
        "_uuid": "410eea1e-a15c-4c94-a8ea-9414ccf639fc",
        "execution": {
          "iopub.execute_input": "2024-11-21T10:12:06.931797Z",
          "iopub.status.busy": "2024-11-21T10:12:06.931402Z",
          "iopub.status.idle": "2024-11-21T10:12:06.937301Z",
          "shell.execute_reply": "2024-11-21T10:12:06.936339Z"
        },
        "id": "cba7ddb4",
        "jupyter": {
          "outputs_hidden": false
        },
        "papermill": {
          "duration": 0.014781,
          "end_time": "2024-11-21T10:12:06.939277",
          "exception": false,
          "start_time": "2024-11-21T10:12:06.924496",
          "status": "completed"
        },
        "tags": []
      },
      "outputs": [],
      "source": [
        "def generate_noise(shape, noise_level):\n",
        "    a = np.random.rand()\n",
        "    if a < 0.5:\n",
        "        parameter = np.random.uniform(-5, 5)\n",
        "        return skewnorm.rvs(a=parameter, size=shape) * noise_level\n",
        "    else:\n",
        "        parameter = np.random.uniform(0, 4)\n",
        "        return np.random.exponential(scale=parameter, size=shape) * noise_level"
      ]
    },
    {
      "cell_type": "code",
      "execution_count": null,
      "id": "c919f24a",
      "metadata": {
        "_cell_guid": "680454b4-4851-40d3-bb2d-98fbfd552d46",
        "_uuid": "c4532280-b459-466d-a3d6-27a061c7e7ff",
        "execution": {
          "iopub.execute_input": "2024-11-21T10:12:06.962956Z",
          "iopub.status.busy": "2024-11-21T10:12:06.962581Z",
          "iopub.status.idle": "2024-11-21T10:12:06.969675Z",
          "shell.execute_reply": "2024-11-21T10:12:06.968591Z"
        },
        "id": "c919f24a",
        "jupyter": {
          "outputs_hidden": false
        },
        "papermill": {
          "duration": 0.016156,
          "end_time": "2024-11-21T10:12:06.971973",
          "exception": false,
          "start_time": "2024-11-21T10:12:06.955817",
          "status": "completed"
        },
        "tags": []
      },
      "outputs": [],
      "source": [
        "def bc(u, Ncell, mode=\"periodic\", noise_level=0.0):\n",
        "    _u = jnp.zeros(Ncell + 4)\n",
        "    _u = _u.at[2 : Ncell + 2].set(u)\n",
        "    if mode == \"periodic\":\n",
        "        _u = _u.at[0:2].set(u[-2:])  \n",
        "        _u = _u.at[Ncell + 2 : Ncell + 4].set(u[0:2]) \n",
        "    return _u"
      ]
    },
    {
      "cell_type": "code",
      "execution_count": 14,
      "id": "09f64b25",
      "metadata": {
        "_cell_guid": "d81dd224-83b7-4349-b77e-78100496db89",
        "_uuid": "a1cd5632-fb1a-4ab7-8e0f-29c3c4c082de",
        "execution": {
          "iopub.execute_input": "2024-11-21T10:12:06.995948Z",
          "iopub.status.busy": "2024-11-21T10:12:06.995573Z",
          "iopub.status.idle": "2024-11-21T10:12:07.003921Z",
          "shell.execute_reply": "2024-11-21T10:12:07.002692Z"
        },
        "id": "09f64b25",
        "jupyter": {
          "outputs_hidden": false
        },
        "papermill": {
          "duration": 0.017808,
          "end_time": "2024-11-21T10:12:07.006404",
          "exception": false,
          "start_time": "2024-11-21T10:12:06.988596",
          "status": "completed"
        },
        "tags": []
      },
      "outputs": [],
      "source": [
        "def VLlimiter(a, b, c, alpha=2.0):\n",
        "    return (\n",
        "        jnp.sign(c)\n",
        "        * (0.5 + 0.5 * jnp.sign(a * b))\n",
        "        * jnp.minimum(alpha * jnp.minimum(jnp.abs(a), jnp.abs(b)), jnp.abs(c))\n",
        "    )\n",
        "\n",
        "\n",
        "def limiting(u, Ncell, if_second_order):\n",
        "    du_L = u[1 : Ncell + 3] - u[0 : Ncell + 2]\n",
        "    du_R = u[2 : Ncell + 4] - u[1 : Ncell + 3]\n",
        "    du_M = (u[2 : Ncell + 4] - u[0 : Ncell + 2]) * 0.5\n",
        "    gradu = VLlimiter(du_L, du_R, du_M) * if_second_order\n",
        "    uL, uR = jnp.zeros_like(u), jnp.zeros_like(u)\n",
        "    uL = uL.at[1 : Ncell + 3].set(u[1 : Ncell + 3] - 0.5 * gradu)\n",
        "    uR = uR.at[1 : Ncell + 3].set(u[1 : Ncell + 3] + 0.5 * gradu)\n",
        "    return uL, uR"
      ]
    },
    {
      "cell_type": "code",
      "execution_count": 15,
      "id": "b36bac47",
      "metadata": {
        "_cell_guid": "c58b81ad-527c-4de5-a296-840fceaf5453",
        "_uuid": "85932362-f1a0-4fe0-b40c-67cb73ebdc3c",
        "execution": {
          "iopub.execute_input": "2024-11-21T10:12:07.030272Z",
          "iopub.status.busy": "2024-11-21T10:12:07.029862Z",
          "iopub.status.idle": "2024-11-21T10:12:07.035193Z",
          "shell.execute_reply": "2024-11-21T10:12:07.033987Z"
        },
        "id": "b36bac47",
        "jupyter": {
          "outputs_hidden": false
        },
        "papermill": {
          "duration": 0.014269,
          "end_time": "2024-11-21T10:12:07.037239",
          "exception": false,
          "start_time": "2024-11-21T10:12:07.022970",
          "status": "completed"
        },
        "tags": []
      },
      "outputs": [],
      "source": [
        "dt_save = 0.01\n",
        "ini_time = 0.0\n",
        "fin_time = 2.0\n",
        "nx = 1024\n",
        "xL = -1.0\n",
        "xR = 1.0\n",
        "if_second_order = 1.0\n",
        "show_steps = 100"
      ]
    },
    {
      "cell_type": "code",
      "execution_count": 16,
      "id": "e4d3000a",
      "metadata": {
        "_cell_guid": "603651c0-ef0e-4984-a4ce-ebe950cab557",
        "_uuid": "bd3c3d3a-2c49-4fac-9aad-8c06a4a10ed0",
        "execution": {
          "iopub.execute_input": "2024-11-21T10:12:07.060741Z",
          "iopub.status.busy": "2024-11-21T10:12:07.060330Z",
          "iopub.status.idle": "2024-11-21T10:12:07.764950Z",
          "shell.execute_reply": "2024-11-21T10:12:07.763796Z"
        },
        "id": "e4d3000a",
        "jupyter": {
          "outputs_hidden": false
        },
        "papermill": {
          "duration": 0.71384,
          "end_time": "2024-11-21T10:12:07.767373",
          "exception": false,
          "start_time": "2024-11-21T10:12:07.053533",
          "status": "completed"
        },
        "tags": []
      },
      "outputs": [],
      "source": [
        "dx = (xR - xL) / nx\n",
        "xe = jnp.linspace(xL, xR, nx + 1)\n",
        "xc = xe[:-1] + 0.5 * dx\n",
        "it_tot = ceil((fin_time - ini_time) / dt_save) + 1\n",
        "tc = jnp.arange(it_tot + 1) * dt_save"
      ]
    },
    {
      "cell_type": "code",
      "execution_count": null,
      "id": "572330b5",
      "metadata": {
        "_cell_guid": "46a81215-a967-4cd0-99d0-3cd8eef95b23",
        "_uuid": "fdda715d-e7d1-4fa2-881b-298ffaffeff8",
        "execution": {
          "iopub.execute_input": "2024-11-21T10:12:07.790955Z",
          "iopub.status.busy": "2024-11-21T10:12:07.790587Z",
          "iopub.status.idle": "2024-11-21T10:12:07.800431Z",
          "shell.execute_reply": "2024-11-21T10:12:07.799464Z"
        },
        "id": "572330b5",
        "jupyter": {
          "outputs_hidden": false
        },
        "papermill": {
          "duration": 0.018565,
          "end_time": "2024-11-21T10:12:07.802427",
          "exception": false,
          "start_time": "2024-11-21T10:12:07.783862",
          "status": "completed"
        },
        "tags": []
      },
      "outputs": [],
      "source": [
        "with h5py.File(\"data.h5\", \"w\") as g:\n",
        "    f = g.create_group(\"coords\")\n",
        "    f.create_dataset(\"x-coordinates\", data=xc)\n",
        "    f.create_dataset(\"t-coordinates\", data=tc)\n",
        "    g.close()"
      ]
    },
    {
      "cell_type": "code",
      "execution_count": null,
      "id": "74a4bd39",
      "metadata": {
        "_cell_guid": "62c217f4-9872-4f7e-9659-646573dde0ae",
        "_uuid": "8e84ef8e-22c7-410c-b60d-5f6bf944cb51",
        "execution": {
          "iopub.execute_input": "2024-11-21T10:12:07.838601Z",
          "iopub.status.busy": "2024-11-21T10:12:07.838217Z",
          "iopub.status.idle": "2024-11-21T10:12:07.862219Z",
          "shell.execute_reply": "2024-11-21T10:12:07.861074Z"
        },
        "id": "74a4bd39",
        "jupyter": {
          "outputs_hidden": false
        },
        "papermill": {
          "duration": 0.033921,
          "end_time": "2024-11-21T10:12:07.864607",
          "exception": false,
          "start_time": "2024-11-21T10:12:07.830686",
          "status": "completed"
        },
        "tags": []
      },
      "outputs": [],
      "source": [
        "def gen(path) -> None:\n",
        "    epsilon = np.random.uniform(1.0e-4, 1.0e-1)\n",
        "    u0 = np.random.uniform(0.5, 2.0)\n",
        "    du = np.random.uniform(0.0, 0.5)\n",
        "    CFL = np.random.uniform(0.1, 0.9)\n",
        "    noise_level = np.random.uniform(0.0, 0.5)\n",
        "\n",
        "    pi_inv = 1.0 / jnp.pi\n",
        "    dx = (xR - xL) / nx\n",
        "    dx_inv = 1.0 / dx\n",
        "\n",
        "    @jax.jit\n",
        "    def evolve(u, noise_level=0.0, equation_noise_level=0.0):\n",
        "        t = ini_time\n",
        "        tsave = t\n",
        "        steps = 0\n",
        "        i_save = 0\n",
        "        dt = 0.0\n",
        "        uu = jnp.zeros([it_tot, u.shape[0]])\n",
        "        uu = uu.at[0].set(u)\n",
        "\n",
        "        tm_ini = time.time()\n",
        "\n",
        "        cond_fun = lambda x: x[0] < fin_time\n",
        "\n",
        "        def _body_fun(carry):\n",
        "            def _save(_carry):\n",
        "                u, tsave, i_save, uu = _carry\n",
        "                uu = uu.at[i_save].set(u)\n",
        "                tsave += dt_save\n",
        "                i_save += 1\n",
        "                return (u, tsave, i_save, uu)\n",
        "\n",
        "            t, tsave, steps, i_save, dt, u, uu = carry\n",
        "\n",
        "            # if save data\n",
        "            carry = (u, tsave, i_save, uu)\n",
        "            u, tsave, i_save, uu = lax.cond(t >= tsave, _save, _pass, carry)\n",
        "\n",
        "            # Pass noise levels to simulation_fn here\n",
        "            carry = (u, t, dt, steps, tsave)\n",
        "            u, t, dt, steps, tsave = lax.fori_loop(\n",
        "                0,\n",
        "                show_steps,\n",
        "                lambda i, carry: simulation_fn(\n",
        "                    i, carry, noise_level, equation_noise_level\n",
        "                ),\n",
        "                carry,\n",
        "            )\n",
        "            return (t, tsave, steps, i_save, dt, u, uu)\n",
        "\n",
        "        carry = t, tsave, steps, i_save, dt, u, uu\n",
        "        t, tsave, steps, i_save, dt, u, uu = lax.while_loop(cond_fun, _body_fun, carry)\n",
        "        uu = uu.at[-1].set(u)\n",
        "\n",
        "        tm_fin = time.time()\n",
        "        return uu, t\n",
        "\n",
        "    @jax.jit\n",
        "    def simulation_fn(i, carry, noise_level=0.0, equation_noise_level=0.0):\n",
        "        u, t, dt, steps, tsave = carry\n",
        "        dt_adv = Courant(u, dx) * CFL\n",
        "        dt_dif = Courant_diff(dx, epsilon * pi_inv) * CFL\n",
        "        dt = jnp.min(jnp.array([dt_adv, dt_dif, fin_time - t, tsave - t]))\n",
        "\n",
        "        def _update(carry):\n",
        "            u, dt = carry\n",
        "            u_tmp = update(u, u, dt * 0.5, noise_level, equation_noise_level)\n",
        "            u = update(u, u_tmp, dt, noise_level, equation_noise_level)\n",
        "            return u, dt\n",
        "\n",
        "        carry = u, dt\n",
        "        u, dt = lax.cond(dt > 1.0e-8, _update, _pass, carry)\n",
        "\n",
        "        t += dt\n",
        "        steps += 1\n",
        "        return u, t, dt, steps, tsave\n",
        "\n",
        "    @jax.jit\n",
        "    def update(u, u_tmp, dt, noise_level=0.0, equation_noise_level=0.0):\n",
        "        f = flux(u_tmp, noise_level)\n",
        "        noise = generate_noise(f.shape, equation_noise_level)\n",
        "        f = f + noise  # Add noise to the flux\n",
        "        u -= dt * dx_inv * (f[1 : nx + 1] - f[0:nx])\n",
        "        return u\n",
        "\n",
        "    def flux(u, noise_level=0.0):\n",
        "        _u = bc(\n",
        "            u, Ncell=nx, noise_level=noise_level\n",
        "        )  # index 2 for _U is equivalent with index 0 for u\n",
        "        uL, uR = limiting(_u, nx, if_second_order=if_second_order)\n",
        "        fL = 0.5 * uL**2\n",
        "        fR = 0.5 * uR**2\n",
        "        # Upwind advection scheme\n",
        "        f_upwd = 0.5 * (\n",
        "            fR[1 : nx + 2]\n",
        "            + fL[2 : nx + 3]\n",
        "            - 0.5\n",
        "            * jnp.abs(uL[2 : nx + 3] + uR[1 : nx + 2])\n",
        "            * (uL[2 : nx + 3] - uR[1 : nx + 2])\n",
        "        )\n",
        "        # Source term\n",
        "        f_upwd += -epsilon * pi_inv * (_u[2 : nx + 3] - _u[1 : nx + 2]) * dx_inv\n",
        "        return f_upwd\n",
        "\n",
        "    # Initialize the solution without noise\n",
        "    u = init(xc=xc, u0=u0, du=du)\n",
        "\n",
        "    # Add noise to the initial condition\n",
        "    noise = generate_noise(u.shape, noise_level)\n",
        "    u_noisy = u + noise\n",
        "\n",
        "    # Evolve the solution without noise\n",
        "    u_clean = device_put(u)  # Putting variables in GPU (not necessary??)\n",
        "    uu_clean, t_clean = evolve(u_clean)\n",
        "\n",
        "\n",
        "\n",
        "    with h5py.File(\"data.h5\", \"a\") as g:\n",
        "        f = g.create_group(f\"{path}\")\n",
        "        f.create_dataset(\"epsilon\", data=epsilon)\n",
        "        f.create_dataset(\"u0\", data=u0)\n",
        "        f.create_dataset(\"du\", data=du)\n",
        "        f.create_dataset(\"CFL\", data=CFL)\n",
        "        f.create_dataset(\"clean\", data=uu_clean)\n",
        "        g.close()"
      ]
    },
    {
      "cell_type": "markdown",
      "id": "be7aa904",
      "metadata": {
        "id": "be7aa904",
        "papermill": {
          "duration": 0.005413,
          "end_time": "2024-11-21T10:12:07.877258",
          "exception": false,
          "start_time": "2024-11-21T10:12:07.871845",
          "status": "completed"
        },
        "tags": []
      },
      "source": [
        "100 samples are generated for future training."
      ]
    },
    {
      "cell_type": "code",
      "execution_count": null,
      "id": "4e3a0f71",
      "metadata": {
        "_cell_guid": "0e0fe78b-2e6a-44df-a945-778aa4f37914",
        "_uuid": "48635ee8-6340-41a0-8f93-a4a74956847f",
        "colab": {
          "base_uri": "https://localhost:8080/"
        },
        "execution": {
          "iopub.execute_input": "2024-11-21T10:12:07.890820Z",
          "iopub.status.busy": "2024-11-21T10:12:07.889853Z",
          "iopub.status.idle": "2024-11-21T10:24:06.221440Z",
          "shell.execute_reply": "2024-11-21T10:24:06.219704Z"
        },
        "id": "4e3a0f71",
        "jupyter": {
          "outputs_hidden": false
        },
        "outputId": "268b4d86-4dd1-4fdc-d8f4-eab1f5e6b0f7",
        "papermill": {
          "duration": 718.350826,
          "end_time": "2024-11-21T10:24:06.233729",
          "exception": false,
          "start_time": "2024-11-21T10:12:07.882903",
          "status": "completed"
        },
        "tags": []
      },
      "outputs": [],
      "source": [
        "for i in range(1000):\n",
        "    print(f\"Running simulation {i + 1}/100\")\n",
        "    gen(i)"
      ]
    },
    {
      "cell_type": "code",
      "execution_count": 22,
      "id": "c7f07e69",
      "metadata": {
        "execution": {
          "iopub.execute_input": "2024-11-21T10:24:06.279880Z",
          "iopub.status.busy": "2024-11-21T10:24:06.279485Z",
          "iopub.status.idle": "2024-11-21T10:24:06.297904Z",
          "shell.execute_reply": "2024-11-21T10:24:06.296839Z"
        },
        "id": "c7f07e69",
        "papermill": {
          "duration": 0.032727,
          "end_time": "2024-11-21T10:24:06.300319",
          "exception": false,
          "start_time": "2024-11-21T10:24:06.267592",
          "status": "completed"
        },
        "tags": []
      },
      "outputs": [],
      "source": [
        "import matplotlib.pyplot as plt\n",
        "import numpy as np\n",
        "from matplotlib import animation\n",
        "from tqdm import tqdm\n",
        "\n",
        "\n",
        "def visualize_burgers(xcrd, data, name):\n",
        "    fig, ax = plt.subplots()\n",
        "\n",
        "    ims = []\n",
        "\n",
        "    for i in tqdm(range(data.shape[0])):\n",
        "        if i == 0:\n",
        "            im = ax.plot(xcrd, data[i].squeeze(), animated=True, color=\"blue\")\n",
        "        else:\n",
        "            im = ax.plot(\n",
        "                xcrd, data[i].squeeze(), animated=True, color=\"blue\"\n",
        "            )\n",
        "        ims.append([im[0]])\n",
        "    ani = animation.ArtistAnimation(fig, ims, interval=50, blit=True, repeat_delay=1000)\n",
        "\n",
        "    writer = animation.PillowWriter(fps=15, bitrate=1800)\n",
        "    ani.save(f\"{name}.gif\", writer=writer)\n",
        "    plt.close(fig)"
      ]
    },
    {
      "cell_type": "code",
      "execution_count": null,
      "id": "cO3PB0TB9kJ_",
      "metadata": {
        "colab": {
          "base_uri": "https://localhost:8080/"
        },
        "id": "cO3PB0TB9kJ_",
        "outputId": "51edb241-dc9f-4aa3-f606-0d6adc2af06f"
      },
      "outputs": [],
      "source": [
        "from scipy.stats import skewnorm\n",
        "with h5py.File(\"data.h5\", \"a\") as f:\n",
        "    l = list(f.keys())[:-1]\n",
        "    for i in l:\n",
        "        print(i)\n",
        "        u = f[i][\"clean\"][:]\n",
        "        noise = skewnorm.rvs(a=1, scale=0.2, size=u.shape)\n",
        "        un = u + noise\n",
        "        try:\n",
        "            f[i].create_dataset(\"noisy\", data=un)\n",
        "        except:\n",
        "            print(i)\n",
        "\n"
      ]
    },
    {
      "cell_type": "code",
      "execution_count": 24,
      "id": "4e6ac23a",
      "metadata": {
        "colab": {
          "base_uri": "https://localhost:8080/"
        },
        "execution": {
          "iopub.execute_input": "2024-11-21T10:24:06.344809Z",
          "iopub.status.busy": "2024-11-21T10:24:06.343974Z",
          "iopub.status.idle": "2024-11-21T10:25:40.094053Z",
          "shell.execute_reply": "2024-11-21T10:25:40.092419Z"
        },
        "id": "4e6ac23a",
        "outputId": "661168b5-78b8-42ab-8356-369922e54afd",
        "papermill": {
          "duration": 93.764616,
          "end_time": "2024-11-21T10:25:40.096950",
          "exception": false,
          "start_time": "2024-11-21T10:24:06.332334",
          "status": "completed"
        },
        "tags": []
      },
      "outputs": [
        {
          "name": "stdout",
          "output_type": "stream",
          "text": [
            "['30', '74', '63']\n",
            "Visualizing simulation 30\n"
          ]
        },
        {
          "name": "stderr",
          "output_type": "stream",
          "text": [
            "100%|██████████| 201/201 [00:00<00:00, 1867.91it/s]\n",
            "100%|██████████| 201/201 [00:00<00:00, 2546.29it/s]\n"
          ]
        },
        {
          "name": "stdout",
          "output_type": "stream",
          "text": [
            "Visualizing simulation 74\n"
          ]
        },
        {
          "name": "stderr",
          "output_type": "stream",
          "text": [
            "100%|██████████| 201/201 [00:00<00:00, 2537.61it/s]\n",
            "100%|██████████| 201/201 [00:00<00:00, 612.85it/s]\n"
          ]
        },
        {
          "name": "stdout",
          "output_type": "stream",
          "text": [
            "Visualizing simulation 63\n"
          ]
        },
        {
          "name": "stderr",
          "output_type": "stream",
          "text": [
            "100%|██████████| 201/201 [00:00<00:00, 2704.81it/s]\n",
            "100%|██████████| 201/201 [00:00<00:00, 1540.74it/s]\n"
          ]
        }
      ],
      "source": [
        "import random\n",
        "\n",
        "\n",
        "with h5py.File(\"simulation_data.h5\", \"r\") as f:\n",
        "    l = random.choices(list(f.keys()), k=3)\n",
        "    print(l)\n",
        "    xc = f[\"coords\"][\"x-coordinates\"][:]\n",
        "    for i in l:\n",
        "        if i == 'coords':\n",
        "            continue\n",
        "        print(f\"Visualizing simulation {i}\")\n",
        "        data = f[i][\"clean\"][:]\n",
        "        visualize_burgers(xc, data, f\"{i}_clean\")\n",
        "\n",
        "        data = f[i][\"noisy\"][:]\n",
        "        visualize_burgers(xc, data, f\"{i}_noisy\")"
      ]
    }
  ],
  "metadata": {
    "accelerator": "GPU",
    "colab": {
      "gpuType": "T4",
      "provenance": []
    },
    "kaggle": {
      "accelerator": "none",
      "dataSources": [],
      "dockerImageVersionId": 30786,
      "isGpuEnabled": false,
      "isInternetEnabled": true,
      "language": "python",
      "sourceType": "notebook"
    },
    "kernelspec": {
      "display_name": "Python (myenv)",
      "language": "python",
      "name": "torch"
    },
    "language_info": {
      "codemirror_mode": {
        "name": "ipython",
        "version": 3
      },
      "file_extension": ".py",
      "mimetype": "text/x-python",
      "name": "python",
      "nbconvert_exporter": "python",
      "pygments_lexer": "ipython3",
      "version": "3.12.3"
    },
    "papermill": {
      "default_parameters": {},
      "duration": 820.15877,
      "end_time": "2024-11-21T10:25:41.462091",
      "environment_variables": {},
      "exception": null,
      "input_path": "__notebook__.ipynb",
      "output_path": "__notebook__.ipynb",
      "parameters": {},
      "start_time": "2024-11-21T10:12:01.303321",
      "version": "2.6.0"
    }
  },
  "nbformat": 4,
  "nbformat_minor": 5
}
